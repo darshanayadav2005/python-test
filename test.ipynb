{
 "cells": [
  {
   "cell_type": "code",
   "execution_count": null,
   "metadata": {},
   "outputs": [],
   "source": [
    "student='viit'              \n",
    "if student == 'viit':\n",
    "    print(\"welcome to class\")\n",
    "print(\"bye\")\n",
    "\n",
    "\n",
    "a=int(input(\"enter the value of x = \"))\n",
    "if a%2==0 :\n",
    "    print(\"number is even\")\n",
    "if a%2!=0:                         # else:\n",
    "    print(\"number is odd \")            #(\"number is odd\")\n",
    "\n"
   ]
  }
 ],
 "metadata": {
  "language_info": {
   "name": "python"
  }
 },
 "nbformat": 4,
 "nbformat_minor": 2
}
